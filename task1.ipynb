{
 "cells": [
  {
   "cell_type": "markdown",
   "metadata": {},
   "source": [
    "> imports"
   ]
  },
  {
   "cell_type": "code",
   "execution_count": 1,
   "metadata": {},
   "outputs": [],
   "source": [
    "from matplotlib import pyplot as plt\n",
    "import numpy as np"
   ]
  },
  {
   "cell_type": "markdown",
   "metadata": {},
   "source": [
    "# Задание 1\n",
    " > минимизация квадратичной функции"
   ]
  },
  {
   "cell_type": "code",
   "execution_count": 52,
   "metadata": {},
   "outputs": [],
   "source": [
    "#  Setup\n",
    "example_A = np.array([[2, 1], [1, 2]])\n",
    "example_b = np.array([[-2], [1]])\n",
    "example_x = np.array([[1], [1], [1]])\n",
    "\n",
    "A_task = np.array([\n",
    "    [2, 0, 1],\n",
    "    [0, 2, 0],\n",
    "    [1, 0, 2]\n",
    "])\n",
    "b_task = np.array([\n",
    "    [-2],\n",
    "    [1],\n",
    "    [-1]\n",
    "])\n",
    "\n",
    "epsilon = 1e-6\n",
    "\n",
    "def get_e(size = 2):\n",
    "    return np.array([[1], *[[0] for x in range(size - 1)]])\n"
   ]
  },
  {
   "cell_type": "code",
   "execution_count": 37,
   "metadata": {},
   "outputs": [
    {
     "name": "stdout",
     "output_type": "stream",
     "text": [
      "A =\n",
      " [[2 0 1]\n",
      " [0 2 0]\n",
      " [1 0 2]]\n",
      "b =\n",
      " [[-2]\n",
      " [ 1]\n",
      " [-1]]\n",
      "A = A': True\n",
      "Собственные числа:  1.0 2.0 3.0\n",
      " 1.0||x||^2 <= (x, Ax) <= 2.0||x||^2:  True\n"
     ]
    }
   ],
   "source": [
    "#  1.1\n",
    "# a\n",
    "\n",
    "# number\n",
    "def f1(x_1, x_2):\n",
    "    return x_1 ** 2 + x_1 * x_2 + x_2 ** 2 - 2 * x_1 + x_2\n",
    "\n",
    "# vector\n",
    "\n",
    "def makeF(A, b):\n",
    "    return lambda x: ((x.T.dot(A).dot(x)) / 2 + x.T.dot(b))[0][0]\n",
    "\n",
    "def F1(x):\n",
    "    A = A_task\n",
    "    b = b_task\n",
    "\n",
    "    print('A =\\n',  np.array_str(A, precision=1, suppress_small=True))\n",
    "    print('b =\\n', np.array_str(b, precision=1, suppress_small=True))\n",
    "\n",
    "    print(\"A = A':\", all( ( A == A.T).tolist() ) )\n",
    "    va, vb = np.linalg.eigh(A)\n",
    "    nums = sorted(va.tolist())\n",
    "    print('Собственные числа: ', *nums)\n",
    "    m, M = np.linalg.norm(x)**2 * nums[0], np.linalg.norm(x)**2 * nums[-1]\n",
    "\n",
    "    print(\n",
    "        f' {nums[0]}||x||^2 <= (x, Ax) <= {nums[1]}||x||^2: ', \n",
    "        all( [m <= x.T.dot(A).dot(x)[0][0], M >= x.T.dot(A).dot(x)[0][0]]) \n",
    "    )\n",
    "\n",
    "F1(example_x)"
   ]
  },
  {
   "cell_type": "code",
   "execution_count": 67,
   "metadata": {},
   "outputs": [
    {
     "name": "stdout",
     "output_type": "stream",
     "text": [
      "A =\n",
      " [[2 0 1]\n",
      " [0 2 0]\n",
      " [1 0 2]]\n",
      "b =\n",
      " [[-2]\n",
      " [ 1]\n",
      " [-1]]\n",
      "Solution for Ax + b = 0:  [-1.0, 0.5, 0.0]\n",
      "F(x̄):  3.75\n"
     ]
    }
   ],
   "source": [
    "# 1.2\n",
    "def F2():\n",
    "    A = A_task\n",
    "    b = b_task\n",
    "    \n",
    "    F = makeF(A, b)\n",
    "    print('A =\\n',  np.array_str(A, precision=1, suppress_small=True))\n",
    "    print('b =\\n', np.array_str(b, precision=1, suppress_small=True))\n",
    "\n",
    "    solution = np.linalg.solve(A, b)\n",
    "\n",
    "    print('Solution for Ax + b = 0: ', solution.T.tolist()[0]) \n",
    "    print('F(x\\u0304): ', F(solution))\n",
    "F2()"
   ]
  },
  {
   "cell_type": "code",
   "execution_count": 90,
   "metadata": {},
   "outputs": [
    {
     "name": "stdout",
     "output_type": "stream",
     "text": [
      "k = 0: x_k = [1, 0, 0]\n",
      "k = 1: x_k = [1.0, -0.5, 0.0]; F(x_k) = -1.25\n",
      "q_K = 0. exiting\n"
     ]
    }
   ],
   "source": [
    "# 1.3 Метод градиентного спуска\n",
    "def F3(A, b, F, maxiter = 1000, log = False):\n",
    "    # k = 0\n",
    "    x_k = get_e(len(A))\n",
    "    F_x_prev = 0\n",
    "    F_x_k = F(x_k)\n",
    "    q_k = A.dot(x_k) + b\n",
    "    if(log):\n",
    "        print(f'k = {0}: x_k = {x_k.T.tolist()[0]}')\n",
    "    for k in range(1, maxiter):\n",
    "        Aq_k = A.dot(q_k)\n",
    "        d, dd = q_k.T.dot(q_k)[0][0], q_k.T.dot(Aq_k)[0][0]\n",
    "        mu_k = -d / dd\n",
    "        x_k = x_k + mu_k * q_k\n",
    "        q_k = A.dot(x_k) + b\n",
    "        F_x_prev = F_x_k\n",
    "        F_x_k = F(x_k)\n",
    "        if(log):\n",
    "            print(f'k = {k}: x_k = {x_k.T.tolist()[0]}; F(x_k) = {F_x_k}')\n",
    "\n",
    "        if(abs(np.linalg.norm(q_k)) < epsilon):\n",
    "            if(log):\n",
    "                print('q_K = 0. exiting')\n",
    "            return (x_k, F_x_k)\n",
    "\n",
    "        if( abs(F_x_k - F_x_prev) < epsilon):\n",
    "            if(log):\n",
    "                print('||F(x_k) - F(x_k+1)|| = 0. exiting')\n",
    "            return (x_k, F_x_k)\n",
    "\n",
    "    return (x_k, F_x_k)\n",
    "\n",
    "A = A_task\n",
    "b = b_task\n",
    "F = makeF(A, b)\n",
    "x_min, fx_min = F3(A, b, F, 1000, True)\n",
    "\n",
    "# print(f'X_min: {x_min.T.tolist()[0]}, F(x_min): {fx_min}')\n"
   ]
  },
  {
   "cell_type": "code",
   "execution_count": 91,
   "metadata": {},
   "outputs": [
    {
     "name": "stdout",
     "output_type": "stream",
     "text": [
      "k = 0: x_k = [1.0, 0.0, 0.0]; F(x_k) = -1.0\n",
      "k = 1: x_k = [1.0, -0.5, 0.0]; F(x_k) = -1.25\n",
      "k = 2: x_k = [1.0, -0.5, 0.0]; F(x_k) = -1.25\n",
      "||F(x_k) - F(x_k+1)|| = 0. exiting\n"
     ]
    }
   ],
   "source": [
    "# 1.4 Метод покоординатного спуска\n",
    "def F4(A, b, F, maxiter = 1000, log = False):\n",
    "    # масстив базисных векторов\n",
    "    E = [\n",
    "        np.array([\n",
    "            *[[0] for j in range(i)],\n",
    "            [1],\n",
    "            *[[0] for j in range( len(A) - i - 1)]\n",
    "        ])\n",
    "        for i in range(len(A))\n",
    "    ]\n",
    "\n",
    "    x_k = np.array([[0] for _ in range(len(A))])\n",
    "    F_x_k = F(x_k)\n",
    "    for k in range(maxiter):\n",
    "        e = E[k % len(A)]\n",
    "        d, dd = e.T.dot( A.dot(x_k) + b )[0][0], e.T.dot( A.dot(e) )[0][0]\n",
    "        mu_k = - d / dd\n",
    "        x_k = x_k + mu_k * e\n",
    "\n",
    "        F_x_prev = F_x_k\n",
    "        F_x_k = F(x_k)\n",
    "        if(log):\n",
    "            print(f'k = {k}: x_k = {x_k.T.tolist()[0]}; F(x_k) = {F_x_k}')\n",
    "        if( abs(F_x_k - F_x_prev) < epsilon):\n",
    "            if(log):\n",
    "                print('||F(x_k) - F(x_k+1)|| = 0. exiting')\n",
    "            return (x_k, F_x_k)\n",
    "        \n",
    "    return (x_k, F_x_k)\n",
    "\n",
    "\n",
    "A = A_task\n",
    "b = b_task\n",
    "F = makeF(A, b)\n",
    "x_min, F_x_min = F4(A, b, F, 3, True)"
   ]
  },
  {
   "cell_type": "code",
   "execution_count": 100,
   "metadata": {},
   "outputs": [
    {
     "name": "stdout",
     "output_type": "stream",
     "text": [
      "Grad: x_grad = [-0.5821003198551427, 0.5281177637904693, -0.36327930854255913]; F(x_grad) = 10.6354032\n",
      "\n",
      "Cord: x_cord = [-0.5835118183380518, 0.5288066366305914, -0.3630156817367994]; F(x_cord) = 10.6354036\n"
     ]
    }
   ],
   "source": [
    "# 2\n",
    "\n",
    "N = 12\n",
    "\n",
    "A = np.array([\n",
    "    [2, 1, 1],\n",
    "    [1, (3 + 0.1 * N), -1],\n",
    "    [1, -1, (4 + 0.1 * N)]\n",
    "])\n",
    "\n",
    "b = np.array([\n",
    "    [1],\n",
    "    [-2],\n",
    "    [3]\n",
    "])\n",
    "_F = makeF(A, b)\n",
    "\n",
    "\n",
    "# = 2x^2 + (3 + 0.1N)y^2 + (4 + 0.1N)z^2 + xy − yz + xz + x − 2y + 3z + N\n",
    "F = lambda x: _F(x) + N \n",
    "\n",
    "x_grad, F_x_grad = F3(A, b, F, 1000, False)\n",
    "print(f'Grad: x_grad = {x_grad.T.tolist()[0]}; F(x_grad) = { \"{:.7f}\".format(F_x_grad) }\\n')\n",
    "\n",
    "x_cord, F_x_cord = F4(A, b, F, 1000, False)\n",
    "print(f'Cord: x_cord = {x_cord.T.tolist()[0]}; F(x_cord) = {\"{:.7f}\".format(F_x_cord)}')"
   ]
  }
 ],
 "metadata": {
  "kernelspec": {
   "display_name": "Python 3.10.2 64-bit",
   "language": "python",
   "name": "python3"
  },
  "language_info": {
   "codemirror_mode": {
    "name": "ipython",
    "version": 3
   },
   "file_extension": ".py",
   "mimetype": "text/x-python",
   "name": "python",
   "nbconvert_exporter": "python",
   "pygments_lexer": "ipython3",
   "version": "3.10.2"
  },
  "orig_nbformat": 4,
  "vscode": {
   "interpreter": {
    "hash": "f49833a805e140ca3ed01932db5f452b90e7f9bf9a6bc9045edb1bdc60f24cb6"
   }
  }
 },
 "nbformat": 4,
 "nbformat_minor": 2
}
